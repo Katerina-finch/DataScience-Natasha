{
 "cells": [
  {
   "cell_type": "code",
   "execution_count": 1,
   "metadata": {},
   "outputs": [
    {
     "data": {
      "text/plain": [
       "'Модуль посвящен первому уроку.\\n\\nВ данном модуле рассматривали работу с \\nгитхаб и кэгл.\\n'"
      ]
     },
     "execution_count": 1,
     "metadata": {},
     "output_type": "execute_result"
    }
   ],
   "source": [
    "\"\"\"Модуль посвящен первому уроку.\n",
    "\n",
    "В данном модуле рассматривали работу с \n",
    "гитхаб и кэгл.\n",
    "\"\"\""
   ]
  },
  {
   "cell_type": "markdown",
   "metadata": {},
   "source": [
    "Kaggle - сообщество ученых и специалистов  в сфере Data Science. Необходимо поднимать свой рейтинг, написать комментарий, далее submit prediction - notebook - submit, затем  опубликовать запись о повышении рейтинга, добавив хэштеги.  В гитхабе указала важные ссылки на Kaggle и Ods.ai. Прочитать книгу Битнева В. А. \"Краткий курс школьной математики\", в ней находится базовая информация по математике, 'Python - это просто' - руководство для изучающих Data Science. "
   ]
  }
 ],
 "metadata": {
  "kernelspec": {
   "display_name": "base",
   "language": "python",
   "name": "python3"
  },
  "language_info": {
   "codemirror_mode": {
    "name": "ipython",
    "version": 3
   },
   "file_extension": ".py",
   "mimetype": "text/x-python",
   "name": "python",
   "nbconvert_exporter": "python",
   "pygments_lexer": "ipython3",
   "version": "3.12.4"
  }
 },
 "nbformat": 4,
 "nbformat_minor": 2
}
